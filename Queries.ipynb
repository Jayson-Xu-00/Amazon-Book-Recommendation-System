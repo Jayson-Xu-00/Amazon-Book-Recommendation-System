{
 "cells": [
  {
   "cell_type": "code",
   "execution_count": 1,
   "id": "419698cb",
   "metadata": {},
   "outputs": [
    {
     "name": "stdout",
     "output_type": "stream",
     "text": [
      "Starting Spark application\n"
     ]
    },
    {
     "data": {
      "text/html": [
       "<table>\n",
       "<tr><th>ID</th><th>YARN Application ID</th><th>Kind</th><th>State</th><th>Spark UI</th><th>Driver log</th><th>User</th><th>Current session?</th></tr><tr><td>4</td><td>application_1701448082774_0005</td><td>pyspark</td><td>idle</td><td><a target=\"_blank\" href=\"http://ip-172-31-28-19.ec2.internal:20888/proxy/application_1701448082774_0005/\">Link</a></td><td><a target=\"_blank\" href=\"http://ip-172-31-23-30.ec2.internal:8042/node/containerlogs/container_1701448082774_0005_01_000001/livy\">Link</a></td><td>None</td><td>✔</td></tr></table>"
      ],
      "text/plain": [
       "<IPython.core.display.HTML object>"
      ]
     },
     "metadata": {},
     "output_type": "display_data"
    },
    {
     "data": {
      "application/vnd.jupyter.widget-view+json": {
       "model_id": "",
       "version_major": 2,
       "version_minor": 0
      },
      "text/plain": [
       "FloatProgress(value=0.0, bar_style='info', description='Progress:', layout=Layout(height='25px', width='50%'),…"
      ]
     },
     "metadata": {},
     "output_type": "display_data"
    },
    {
     "name": "stdout",
     "output_type": "stream",
     "text": [
      "SparkSession available as 'spark'.\n"
     ]
    },
    {
     "data": {
      "application/vnd.jupyter.widget-view+json": {
       "model_id": "",
       "version_major": 2,
       "version_minor": 0
      },
      "text/plain": [
       "FloatProgress(value=0.0, bar_style='info', description='Progress:', layout=Layout(height='25px', width='50%'),…"
      ]
     },
     "metadata": {},
     "output_type": "display_data"
    }
   ],
   "source": [
    "from pyspark.sql import SparkSession\n",
    "from pyspark.sql.functions import length\n",
    "from pyspark.sql.functions import col, count, when\n",
    "spark = SparkSession.builder.appName(\"MyApp\").getOrCreate()"
   ]
  },
  {
   "cell_type": "code",
   "execution_count": 2,
   "id": "2a4f0696",
   "metadata": {},
   "outputs": [
    {
     "data": {
      "application/vnd.jupyter.widget-view+json": {
       "model_id": "",
       "version_major": 2,
       "version_minor": 0
      },
      "text/plain": [
       "FloatProgress(value=0.0, bar_style='info', description='Progress:', layout=Layout(height='25px', width='50%'),…"
      ]
     },
     "metadata": {},
     "output_type": "display_data"
    },
    {
     "name": "stdout",
     "output_type": "stream",
     "text": [
      "+----------+--------------------+--------------+--------------------+-----+----------+--------------------+--------------------+----------------+-------+\n",
      "|        Id|               Title|       User_id|         profileName|Score|      Time|        review_Title|         review_Text|n_helpful_review|n_views|\n",
      "+----------+--------------------+--------------+--------------------+-----+----------+--------------------+--------------------+----------------+-------+\n",
      "|1882931173|Its Only Art If I...| AVCGYZL8FQQTD|\"Jim of Oz \"\"jim-...|  4.0|1999-10-23|Nice collection o...|This is only for ...|               7|      7|\n",
      "|0826414346|Dr. Seuss: Americ...|A30TK6U7DNS82R|       Kevin Killian|  5.0|2004-09-21|   Really Enjoyed It|I don't care much...|              10|     10|\n",
      "|0826414346|Dr. Seuss: Americ...|A3UH4UZ4RSVO82|        John Granger|  5.0|2004-03-09|Essential for eve...|\"If people become...|              10|     11|\n",
      "|0826414346|Dr. Seuss: Americ...|A2MVUWT453QH61|\"Roy E. Perry \"\"a...|  4.0|2004-07-25|Phlip Nel gives s...|Theodore Seuss Ge...|               7|      7|\n",
      "|0826414346|Dr. Seuss: Americ...|A22X4XUPKF66MR|\"D. H. Richards \"...|  4.0|2005-02-10|Good academic ove...|\"Philip Nel - Dr....|               3|      3|\n",
      "|0826414346|Dr. Seuss: Americ...|A2F6NONFUDB6UK|              Malvin|  4.0|2005-09-20|One of America's ...|\"\"\"Dr. Seuss: Ame...|               2|      2|\n",
      "|0826414346|Dr. Seuss: Americ...|A14OJS0VWMOSWO| Midwest Book Review|  5.0|2004-11-11|A memorably excel...|Theodor Seuss Gie...|               3|      4|\n",
      "|0826414346|Dr. Seuss: Americ...|A2RSSXTDZDUSH4|           J. Squire|  5.0|2009-01-06|Academia At It's ...|\"When I recieved ...|               0|      0|\n",
      "|0826414346|Dr. Seuss: Americ...|A25MD5I2GUIW6W|\"J. P. HIGBED \"\"b...|  5.0|2008-05-04|And to think that...|\"Trams (or any pu...|               0|      0|\n",
      "|0826414346|Dr. Seuss: Americ...|A3VA4XFS5WNJO3|     Donald Burnside|  4.0|2004-02-10|Fascinating accou...|As far as I am aw...|               3|      5|\n",
      "|0829814000|Wonderful Worship...| AZ0IOBU20TBOP|  Rev. Pamela Tinnin|  5.0|2001-06-02|Outstanding Resou...|I just finished t...|               8|     10|\n",
      "|0829814000|Wonderful Worship...|A373VVEU6Z9M0N|Dr. Terry W. Dorsett|  5.0|2010-12-08|Small Churches CA...|\"Many small churc...|               1|      1|\n",
      "|0829814000|Wonderful Worship...| AGKGOH65VTRR4|\"Cynthia L. Lajoy...|  5.0|2009-07-23|Not Just for Past...|I just finished r...|               1|      1|\n",
      "|0829814000|Wonderful Worship...| A3OQWLU31BU1Y|       Maxwell Grant|  5.0|2008-09-28|Small church past...|\"I hadn't been a ...|               1|      1|\n",
      "|0595344550|Whispers of the W...|A3Q12RK71N74LB|         Book Reader|  1.0|2005-05-26|            not good|I bought this boo...|               7|     11|\n",
      "|0595344550|Whispers of the W...|A1E9M6APK30ZAU|           V. Powell|  4.0|2005-06-24|  Here is my opinion|\"I have to admit,...|               1|      2|\n",
      "|0595344550|Whispers of the W...| AUR0VA5H0C66C|\"LoveToRead \"\"Act...|  1.0|2005-06-20|        Buyer beware|\"This is a self-p...|               1|      2|\n",
      "|0595344550|Whispers of the W...|A1YLDZ3VHR6QPZ|               Clara|  5.0|2005-05-13| Fall on your knee's|When I first read...|               2|      4|\n",
      "|0595344550|Whispers of the W...| ACO23CG8K8T77|               Tonya|  5.0|2005-05-26|      Bravo Veronica|I read the review...|               5|      9|\n",
      "|0595344550|Whispers of the W...|A1VK81CRRC7MLM|\"missyLou \"\"apple\"\"\"|  5.0|2005-10-23|           Wonderful|\"I really enjoyed...|               1|      3|\n",
      "+----------+--------------------+--------------+--------------------+-----+----------+--------------------+--------------------+----------------+-------+\n",
      "only showing top 20 rows"
     ]
    }
   ],
   "source": [
    "# Replace 'path/to/your/csvfile.csv' with the path to your CSV file\n",
    "csv_file_path = 's3://big-data-jayson/final_project/cleaned_Books_rating.csv'\n",
    "# Read the CSV file into a DataFrame\n",
    "df_rating = spark.read.csv(csv_file_path, header=True, inferSchema=True)\n",
    "# Show the DataFrame\n",
    "df_rating.show()"
   ]
  },
  {
   "cell_type": "code",
   "execution_count": 3,
   "id": "e30dc2e2",
   "metadata": {},
   "outputs": [
    {
     "data": {
      "application/vnd.jupyter.widget-view+json": {
       "model_id": "",
       "version_major": 2,
       "version_minor": 0
      },
      "text/plain": [
       "FloatProgress(value=0.0, bar_style='info', description='Progress:', layout=Layout(height='25px', width='50%'),…"
      ]
     },
     "metadata": {},
     "output_type": "display_data"
    }
   ],
   "source": [
    "# Create a \"output\" folder in S3 before running the code below\n",
    "df_rating.write.option(\"path\", \"s3://big-data-jayson/final_project/output/rating\")\\\n",
    "    .mode(\"overwrite\")\\\n",
    "    .saveAsTable(\"rating\")"
   ]
  },
  {
   "cell_type": "code",
   "execution_count": 4,
   "id": "c0c9bfe6",
   "metadata": {},
   "outputs": [
    {
     "data": {
      "application/vnd.jupyter.widget-view+json": {
       "model_id": "",
       "version_major": 2,
       "version_minor": 0
      },
      "text/plain": [
       "FloatProgress(value=0.0, bar_style='info', description='Progress:', layout=Layout(height='25px', width='50%'),…"
      ]
     },
     "metadata": {},
     "output_type": "display_data"
    },
    {
     "name": "stdout",
     "output_type": "stream",
     "text": [
      "+----------+-----------------+--------------+--------------------+-----+----------+--------------------+--------------------+----------------+-------+\n",
      "|        Id|            Title|       User_id|         profileName|Score|      Time|        review_Title|         review_Text|n_helpful_review|n_views|\n",
      "+----------+-----------------+--------------+--------------------+-----+----------+--------------------+--------------------+----------------+-------+\n",
      "|B000PX9DUU|Old Man & the Sea| A17N23WXA7EAF|\"C. Colt \"\"It Jus...|  5.0|2000-07-17|Possibly his best...|&quot;The Old Man...|               1|      2|\n",
      "|B000PX9DUU|Old Man & the Sea|A2WR2YJ0N95G5X|                Mike|  5.0|2000-06-07|A story with meaning|This is my second...|               1|      2|\n",
      "|B000PX9DUU|Old Man & the Sea|A1UEAAODS7TAU5|        G. MCPHERSON|  3.0|2000-06-05|new to hemingway ...|if you are new to...|               1|      2|\n",
      "|B000PX9DUU|Old Man & the Sea|A3NJRF10KWIAVF|     Shoshana Carter|  3.0|2000-02-20|Excellent Use of ...|Hemmingway demons...|               1|      2|\n",
      "|B000PX9DUU|Old Man & the Sea| AUWKMVQ7I6KXQ|   Jamieson Ninneman|  4.0|1999-12-20|Classic Reading, ...|The Old Man and t...|               1|      2|\n",
      "|B000PX9DUU|Old Man & the Sea|A1NF2FJFTMRLKN|\"\"\"leenylooniyaya\"\"\"|  1.0|2003-02-03|        disappointed|this book was rea...|               3|     14|\n",
      "|B000PX9DUU|Old Man & the Sea|A1FLT2OXFKCDHF|               Janet|  1.0|2000-01-05|I actually fell a...|i actually fell a...|               2|     12|\n",
      "|B000PX9DUU|Old Man & the Sea|A1IC36OFSBUA79|\"a. alyzela \"\"aud...|  2.0|2007-01-09|         HMMMMM.....|I couldn't finish...|               1|     10|\n",
      "|B000PX9DUU|Old Man & the Sea|A1C4T329FB60GV|               mishy|  1.0|2004-01-05|Depressiung book,...|This book sucks. ...|               7|     23|\n",
      "|B000PX9DUU|Old Man & the Sea|A14JGI2XYVFC8W|           MotorMind|  2.0|2011-11-14|Gratuitous cruelt...|\"After finishing ...|               0|      9|\n",
      "|B000PX9DUU|Old Man & the Sea|A1PEIYVBP09WGU|\"B. Massey \"\"Geor...|  1.0|2010-01-22|The Old Man and t...|So boring, just a...|               0|      9|\n",
      "|B000PX9DUU|Old Man & the Sea|A3VAXB8CDYY5BG|        J. E. Barnes|  2.0|2006-03-28|Great Ambition Is...|\"Despite being ti...|               3|     16|\n",
      "|B000PX9DUU|Old Man & the Sea|A2HR0DJG4WMR8R|\"Maurice Williams...|  1.0|2001-08-03|Nothing &quot;cla...|\"I rebelled again...|               0|     10|\n",
      "|B000PX9DUU|Old Man & the Sea|A23DB6LXA0NPZ0|       Winston Chang|  1.0|2004-11-09|Terrible worst bo...|This book is terr...|               4|     22|\n",
      "|B000PX9DUU|Old Man & the Sea|A2YM3KILJ1G0YJ|               Jason|  5.0|2006-03-30|Hemingway's best ...|The Old Man and t...|               5|      8|\n",
      "|B000PX9DUU|Old Man & the Sea|A1X2B4GMXBXW8G|               Jonny|  4.0|2002-03-13|        Its 'da Bomb|Review of The Old...|               5|      8|\n",
      "|B000PX9DUU|Old Man & the Sea|A20VXF9DYI0I6H|          J. Norburn|  4.0|2007-03-17|Simple and powerf...|There are people ...|               3|      5|\n",
      "|B000PX9DUU|Old Man & the Sea|A28ZOZJU5A30Z0|              Sean K|  4.0|2006-05-02|  Triumph and Defeat|\"A short but powe...|               3|      5|\n",
      "|B000PX9DUU|Old Man & the Sea|A1JTG5X4VHJV27|\"Plume45 \"\"kitka1...|  3.0|2003-03-17|Becoming One with...|Hemingway's Nobel...|               3|      5|\n",
      "|B000PX9DUU|Old Man & the Sea|A274DQ0Y9J0YSF|\"\"\"captain_crouto...|  3.0|2001-09-18|The most boring b...|I must say that a...|               3|      5|\n",
      "+----------+-----------------+--------------+--------------------+-----+----------+--------------------+--------------------+----------------+-------+\n",
      "only showing top 20 rows"
     ]
    }
   ],
   "source": [
    "spark.sql(\"SELECT * FROM rating\").show()"
   ]
  },
  {
   "cell_type": "code",
   "execution_count": 5,
   "id": "bacab883",
   "metadata": {},
   "outputs": [
    {
     "data": {
      "application/vnd.jupyter.widget-view+json": {
       "model_id": "",
       "version_major": 2,
       "version_minor": 0
      },
      "text/plain": [
       "FloatProgress(value=0.0, bar_style='info', description='Progress:', layout=Layout(height='25px', width='50%'),…"
      ]
     },
     "metadata": {},
     "output_type": "display_data"
    },
    {
     "name": "stdout",
     "output_type": "stream",
     "text": [
      "+----------+-----------------+--------------+--------------------+-----+----------+--------------------+--------------------+----------------+-------+\n",
      "|        Id|            Title|       User_id|         profileName|Score|      Time|        review_Title|         review_Text|n_helpful_review|n_views|\n",
      "+----------+-----------------+--------------+--------------------+-----+----------+--------------------+--------------------+----------------+-------+\n",
      "|B000PX9DUU|Old Man & the Sea| A17N23WXA7EAF|\"C. Colt \"\"It Jus...|  5.0|2000-07-17|Possibly his best...|&quot;The Old Man...|               1|      2|\n",
      "|B000PX9DUU|Old Man & the Sea|A2WR2YJ0N95G5X|                Mike|  5.0|2000-06-07|A story with meaning|This is my second...|               1|      2|\n",
      "|B000PX9DUU|Old Man & the Sea|A1UEAAODS7TAU5|        G. MCPHERSON|  3.0|2000-06-05|new to hemingway ...|if you are new to...|               1|      2|\n",
      "|B000PX9DUU|Old Man & the Sea|A3NJRF10KWIAVF|     Shoshana Carter|  3.0|2000-02-20|Excellent Use of ...|Hemmingway demons...|               1|      2|\n",
      "|B000PX9DUU|Old Man & the Sea|A1FLT2OXFKCDHF|               Janet|  1.0|2000-01-05|I actually fell a...|i actually fell a...|               2|     12|\n",
      "|B000PX9DUU|Old Man & the Sea|A11RU07SQDXVLP|                Anon|  3.0|2000-03-05|        Good Classic|This is the first...|               3|      4|\n",
      "|B000PX9DUU|Old Man & the Sea|A37TZBJMMCJ6S8|        Man'OThought|  5.0|2000-01-18|Forced to read a ...|If you stopped an...|               6|      9|\n",
      "|B000PX9DUU|Old Man & the Sea|A1K1JW1C5CUSUZ|\"Donald Mitchell ...|  5.0|2000-05-05|What Is Life Real...|The Old Man and t...|              27|     41|\n",
      "|B000PX9DUU|Old Man & the Sea| ARAUDP358J89Z|        brett malone|  5.0|2000-08-08|the old man and t...|This book is a tr...|               2|      2|\n",
      "|B000PX9DUU|Old Man & the Sea|A2QIN7UIEVI9Z0|     \"\"\"denise815\"\"\"|  5.0|2000-04-13|The Old Man and t...|By far one of the...|               2|      2|\n",
      "|B000PX9DUU|Old Man & the Sea| AHDHYVZ1NCGWB|                luke|  4.0|2000-02-25| Old Man and the Sea|Old Man and the S...|               2|      2|\n",
      "|B000PX9DUU|Old Man & the Sea| A6DVL1F0KYZN4|      Mercedes Tryba|  4.0|2000-01-19|&quot;Submitted t...|Earnest Hemingway...|               2|      2|\n",
      "|B000PX9DUU|Old Man & the Sea|A3FNAMHEKX3SO7|     \"\"\"jrp061186\"\"\"|  5.0|2000-10-23|Hemingway at one ...|Not much to say a...|               0|      1|\n",
      "|B000PX9DUU|Old Man & the Sea|A1QMDU8RTL5YIC|      \"\"\"jmmoccia\"\"\"|  3.0|2000-10-04|   The Crazy Old Man|\"I actually saw t...|               0|      1|\n",
      "|B000PX9DUU|Old Man & the Sea|A32QNJEM7G5UVM|              Hannah|  3.0|2000-09-30| Old Man and the Sea|I liked the book ...|               0|      1|\n",
      "|B000PX9DUU|Old Man & the Sea|A12GQKJI1ARMB7|    Daniel J. Meyers|  4.0|2000-06-01|       A great story|A fascinating tal...|               0|      1|\n",
      "|B000PX9DUU|Old Man & the Sea|A3QVAKVRAH657N|\"Orrin C. Judd \"\"...|  5.0|2000-10-01|a bad author's be...|If he had been ab...|               0|      3|\n",
      "|B000PX9DUU|Old Man & the Sea|A3KY82J11B2CXP|    \"\"\"zer0blind7\"\"\"|  2.0|2000-05-06|! WARNING! Heming...|OK book, well dev...|               1|      3|\n",
      "|B000PX9DUU|Old Man & the Sea|A2QJTDA684BBK8|              Pat OB|  4.0|2000-12-12|       A masterpiece|On the outside, T...|               0|      0|\n",
      "|B000PX9DUU|Old Man & the Sea|A3CNBMOFWJ3EJZ|     Angee Guerrero.|  4.0|2000-11-07|Patience and brav...|I think that this...|               0|      0|\n",
      "+----------+-----------------+--------------+--------------------+-----+----------+--------------------+--------------------+----------------+-------+\n",
      "only showing top 20 rows"
     ]
    }
   ],
   "source": [
    "# Assuming you have a SparkSession instance named 'spark'\n",
    "# Query to select rows from the year 2000\n",
    "query = \"\"\"\n",
    "SELECT *\n",
    "FROM rating\n",
    "WHERE YEAR(Time) = 2000\n",
    "\"\"\"\n",
    "\n",
    "# Executing the query\n",
    "df_2000 = spark.sql(query)\n",
    "\n",
    "# Show the results\n",
    "df_2000.show()\n"
   ]
  },
  {
   "cell_type": "code",
   "execution_count": 6,
   "id": "84cb4c99",
   "metadata": {},
   "outputs": [
    {
     "data": {
      "application/vnd.jupyter.widget-view+json": {
       "model_id": "",
       "version_major": 2,
       "version_minor": 0
      },
      "text/plain": [
       "FloatProgress(value=0.0, bar_style='info', description='Progress:', layout=Layout(height='25px', width='50%'),…"
      ]
     },
     "metadata": {},
     "output_type": "display_data"
    },
    {
     "name": "stdout",
     "output_type": "stream",
     "text": [
      "root\n",
      " |-- Id: string (nullable = true)\n",
      " |-- Title: string (nullable = true)\n",
      " |-- User_id: string (nullable = true)\n",
      " |-- profileName: string (nullable = true)\n",
      " |-- Score: double (nullable = true)\n",
      " |-- Time: date (nullable = true)\n",
      " |-- review_Title: string (nullable = true)\n",
      " |-- review_Text: string (nullable = true)\n",
      " |-- n_helpful_review: integer (nullable = true)\n",
      " |-- n_views: integer (nullable = true)"
     ]
    }
   ],
   "source": [
    "df_rating.printSchema()"
   ]
  },
  {
   "cell_type": "code",
   "execution_count": 7,
   "id": "f9ea23fd",
   "metadata": {},
   "outputs": [
    {
     "data": {
      "application/vnd.jupyter.widget-view+json": {
       "model_id": "",
       "version_major": 2,
       "version_minor": 0
      },
      "text/plain": [
       "FloatProgress(value=0.0, bar_style='info', description='Progress:', layout=Layout(height='25px', width='50%'),…"
      ]
     },
     "metadata": {},
     "output_type": "display_data"
    },
    {
     "name": "stdout",
     "output_type": "stream",
     "text": [
      "+--------------------+--------------------+--------------------+--------------------+--------------------+--------------------+-------------+--------------------+--------------------+------------+\n",
      "|               Title|         description|             authors|               image|         previewLink|           publisher|publishedDate|            infoLink|          categories|ratingsCount|\n",
      "+--------------------+--------------------+--------------------+--------------------+--------------------+--------------------+-------------+--------------------+--------------------+------------+\n",
      "|Its Only Art If I...|                null|    ['Julie Strain']|http://books.goog...|http://books.goog...|     Arkive Editions|         1996|http://books.goog...|['Comics & Graphi...|           0|\n",
      "|Wonderful Worship...|This resource inc...|    ['David R. Ray']|http://books.goog...|http://books.goog...|       Spinsters Ink|         2000|http://books.goog...|        ['Religion']|           0|\n",
      "|Whispers of the W...|Julia Thomas find...| ['Veronica Haddon']|http://books.goog...|http://books.goog...|           iUniverse|      2005-02|http://books.goog...|         ['Fiction']|           0|\n",
      "|The Church of Chr...|In The Church of ...|['Everett Ferguson']|http://books.goog...|http://books.goog...|Wm. B. Eerdmans P...|         1996|http://books.goog...|        ['Religion']|         5.0|\n",
      "|Saint Hyacinth of...|The story for chi...|['Mary Fabyan Win...|http://books.goog...|http://books.goog...|     Tan Books & Pub|   2009-01-01|http://books.goog...|['Biography & Aut...|           0|\n",
      "|Rising Sons and D...|Wardell recalls h...|  ['Steven Wardell']|                null|http://books.goog...|  Plympton PressIntl|         1995|http://books.goog...|  ['Social Science']|           0|\n",
      "|Muslim Women's Ch...|Counters the West...|['Camillia Fawzi ...|http://books.goog...|http://books.goog...|    Berg Pub Limited|   1994-02-17|http://books.goog...|        ['Religion']|           0|\n",
      "|Dramatica for Scr...|Dramatica for Scr...|['Armando Salda A...|http://books.goog...|http://books.goog...|Relax into Your S...|      2005-07|http://books.goog...|       ['Reference']|           0|\n",
      "|Mensa Number Puzz...|Acclaimed teacher...|['Evelyn B. Chris...|http://books.goog...|http://books.goog...|            Sky Pony|   2018-11-06|http://books.goog...|['Juvenile Nonfic...|           0|\n",
      "|A husband for Kutani|First published i...|      ['Frank Owen']|http://books.goog...|http://books.goog...|Pickle Partners P...|   2018-02-27|https://play.goog...|         ['History']|           0|\n",
      "| Gold and greenstone|Sally did most th...|     ['Barry Crump']|                null|http://books.goog...|Pocket Naturalist...|         2009|http://books.goog...|['New Zealand fic...|           0|\n",
      "|\"The Ultimate Gui...|This collection b...|    ['Fiona Cownie']|http://books.goog...|http://books.goog...|Bloomsbury Publis...|   2010-01-28|https://play.goog...|             ['Law']|           0|\n",
      "|Overcoming Hypert...|Like a time bomb ...|['Kenneth H. Coop...|http://books.goog...|http://books.goog...|              Bantam|   2012-02-01|https://play.goog...|['Health & Fitness']|           0|\n",
      "|The Oxford Handbo...|A guide to curren...|     ['Robert Kane']|http://books.goog...|http://books.goog...|             OUP USA|   2011-07-27|http://books.goog...|      ['Philosophy']|           0|\n",
      "|Eyewitness Travel...|The DK Eyewitness...|['Dorling Kinders...|http://books.goog...|http://books.goog...|New York, N.Y. : ...|   2015-06-15|http://books.goog...|          ['Europe']|           0|\n",
      "|Hunting The Hard Way|Thrilling stories...|     ['Howard Hill']|http://books.goog...|http://books.goog...|     Derrydale Press|   2000-04-26|https://play.goog...|['Sports & Recrea...|           0|\n",
      "|Homer or Moses?: ...|                null| ['Arthur J. Droge']|http://books.goog...|http://books.goog...|        Mohr Siebeck|         1989|http://books.goog...|        ['Religion']|           0|\n",
      "|   Paolo Di Canio Hb|Understanding Hum...|   ['Donald Laming']|http://books.goog...|http://books.goog...|   John Wiley & Sons|   2008-04-15|https://play.goog...|      ['Psychology']|           0|\n",
      "|Ricky Williams: D...|Ricky Williams is...|['Steve Richardson']|http://books.goog...|http://books.goog...|  Simon and Schuster|   2012-02-07|http://books.goog...|['Sports & Recrea...|           0|\n",
      "|Voices from the F...|Twenty-five years...|     ['Rupert Fike']|http://books.goog...|http://books.goog...|Book Publishing C...|   2012-08-21|https://play.goog...|['Biography & Aut...|         1.0|\n",
      "+--------------------+--------------------+--------------------+--------------------+--------------------+--------------------+-------------+--------------------+--------------------+------------+\n",
      "only showing top 20 rows"
     ]
    }
   ],
   "source": [
    "# Replace 'path/to/your/csvfile.csv' with the path to your CSV file\n",
    "csv_file_path2 = 's3://big-data-jayson/final_project/cleaned_Books_data.csv'\n",
    "# Read the CSV file into a DataFrame\n",
    "df_data = spark.read.csv(csv_file_path2, header=True, inferSchema=True)\n",
    "# Show the DataFrame\n",
    "df_data.show()"
   ]
  },
  {
   "cell_type": "code",
   "execution_count": 8,
   "id": "ad5e24d7",
   "metadata": {},
   "outputs": [
    {
     "data": {
      "application/vnd.jupyter.widget-view+json": {
       "model_id": "",
       "version_major": 2,
       "version_minor": 0
      },
      "text/plain": [
       "FloatProgress(value=0.0, bar_style='info', description='Progress:', layout=Layout(height='25px', width='50%'),…"
      ]
     },
     "metadata": {},
     "output_type": "display_data"
    }
   ],
   "source": [
    "df_rating.write.option(\"path\", \"s3://big-data-jayson/final_project/output/data\")\\\n",
    "    .mode(\"overwrite\")\\\n",
    "    .saveAsTable(\"data\")"
   ]
  },
  {
   "cell_type": "code",
   "execution_count": 9,
   "id": "c48b83f8",
   "metadata": {},
   "outputs": [
    {
     "data": {
      "application/vnd.jupyter.widget-view+json": {
       "model_id": "",
       "version_major": 2,
       "version_minor": 0
      },
      "text/plain": [
       "FloatProgress(value=0.0, bar_style='info', description='Progress:', layout=Layout(height='25px', width='50%'),…"
      ]
     },
     "metadata": {},
     "output_type": "display_data"
    },
    {
     "name": "stdout",
     "output_type": "stream",
     "text": [
      "+----------+-----------------+--------------+--------------------+-----+----------+--------------------+--------------------+----------------+-------+\n",
      "|        Id|            Title|       User_id|         profileName|Score|      Time|        review_Title|         review_Text|n_helpful_review|n_views|\n",
      "+----------+-----------------+--------------+--------------------+-----+----------+--------------------+--------------------+----------------+-------+\n",
      "|B000PX9DUU|Old Man & the Sea| A17N23WXA7EAF|\"C. Colt \"\"It Jus...|  5.0|2000-07-17|Possibly his best...|&quot;The Old Man...|               1|      2|\n",
      "|B000PX9DUU|Old Man & the Sea|A2WR2YJ0N95G5X|                Mike|  5.0|2000-06-07|A story with meaning|This is my second...|               1|      2|\n",
      "|B000PX9DUU|Old Man & the Sea|A1UEAAODS7TAU5|        G. MCPHERSON|  3.0|2000-06-05|new to hemingway ...|if you are new to...|               1|      2|\n",
      "|B000PX9DUU|Old Man & the Sea|A3NJRF10KWIAVF|     Shoshana Carter|  3.0|2000-02-20|Excellent Use of ...|Hemmingway demons...|               1|      2|\n",
      "|B000PX9DUU|Old Man & the Sea| AUWKMVQ7I6KXQ|   Jamieson Ninneman|  4.0|1999-12-20|Classic Reading, ...|The Old Man and t...|               1|      2|\n",
      "|B000PX9DUU|Old Man & the Sea|A1NF2FJFTMRLKN|\"\"\"leenylooniyaya\"\"\"|  1.0|2003-02-03|        disappointed|this book was rea...|               3|     14|\n",
      "|B000PX9DUU|Old Man & the Sea|A1FLT2OXFKCDHF|               Janet|  1.0|2000-01-05|I actually fell a...|i actually fell a...|               2|     12|\n",
      "|B000PX9DUU|Old Man & the Sea|A1IC36OFSBUA79|\"a. alyzela \"\"aud...|  2.0|2007-01-09|         HMMMMM.....|I couldn't finish...|               1|     10|\n",
      "|B000PX9DUU|Old Man & the Sea|A1C4T329FB60GV|               mishy|  1.0|2004-01-05|Depressiung book,...|This book sucks. ...|               7|     23|\n",
      "|B000PX9DUU|Old Man & the Sea|A14JGI2XYVFC8W|           MotorMind|  2.0|2011-11-14|Gratuitous cruelt...|\"After finishing ...|               0|      9|\n",
      "|B000PX9DUU|Old Man & the Sea|A1PEIYVBP09WGU|\"B. Massey \"\"Geor...|  1.0|2010-01-22|The Old Man and t...|So boring, just a...|               0|      9|\n",
      "|B000PX9DUU|Old Man & the Sea|A3VAXB8CDYY5BG|        J. E. Barnes|  2.0|2006-03-28|Great Ambition Is...|\"Despite being ti...|               3|     16|\n",
      "|B000PX9DUU|Old Man & the Sea|A2HR0DJG4WMR8R|\"Maurice Williams...|  1.0|2001-08-03|Nothing &quot;cla...|\"I rebelled again...|               0|     10|\n",
      "|B000PX9DUU|Old Man & the Sea|A23DB6LXA0NPZ0|       Winston Chang|  1.0|2004-11-09|Terrible worst bo...|This book is terr...|               4|     22|\n",
      "|B000PX9DUU|Old Man & the Sea|A2YM3KILJ1G0YJ|               Jason|  5.0|2006-03-30|Hemingway's best ...|The Old Man and t...|               5|      8|\n",
      "|B000PX9DUU|Old Man & the Sea|A1X2B4GMXBXW8G|               Jonny|  4.0|2002-03-13|        Its 'da Bomb|Review of The Old...|               5|      8|\n",
      "|B000PX9DUU|Old Man & the Sea|A20VXF9DYI0I6H|          J. Norburn|  4.0|2007-03-17|Simple and powerf...|There are people ...|               3|      5|\n",
      "|B000PX9DUU|Old Man & the Sea|A28ZOZJU5A30Z0|              Sean K|  4.0|2006-05-02|  Triumph and Defeat|\"A short but powe...|               3|      5|\n",
      "|B000PX9DUU|Old Man & the Sea|A1JTG5X4VHJV27|\"Plume45 \"\"kitka1...|  3.0|2003-03-17|Becoming One with...|Hemingway's Nobel...|               3|      5|\n",
      "|B000PX9DUU|Old Man & the Sea|A274DQ0Y9J0YSF|\"\"\"captain_crouto...|  3.0|2001-09-18|The most boring b...|I must say that a...|               3|      5|\n",
      "+----------+-----------------+--------------+--------------------+-----+----------+--------------------+--------------------+----------------+-------+\n",
      "only showing top 20 rows"
     ]
    }
   ],
   "source": [
    "spark.sql(\"SELECT * FROM data\").show()"
   ]
  },
  {
   "cell_type": "code",
   "execution_count": 10,
   "id": "b834f234",
   "metadata": {},
   "outputs": [
    {
     "data": {
      "application/vnd.jupyter.widget-view+json": {
       "model_id": "",
       "version_major": 2,
       "version_minor": 0
      },
      "text/plain": [
       "FloatProgress(value=0.0, bar_style='info', description='Progress:', layout=Layout(height='25px', width='50%'),…"
      ]
     },
     "metadata": {},
     "output_type": "display_data"
    },
    {
     "name": "stdout",
     "output_type": "stream",
     "text": [
      "+----------------+---------+-------+\n",
      "|        col_name|data_type|comment|\n",
      "+----------------+---------+-------+\n",
      "|              Id|   string|   null|\n",
      "|           Title|   string|   null|\n",
      "|         User_id|   string|   null|\n",
      "|     profileName|   string|   null|\n",
      "|           Score|   double|   null|\n",
      "|            Time|     date|   null|\n",
      "|    review_Title|   string|   null|\n",
      "|     review_Text|   string|   null|\n",
      "|n_helpful_review|      int|   null|\n",
      "|         n_views|      int|   null|\n",
      "+----------------+---------+-------+"
     ]
    }
   ],
   "source": [
    "spark.sql(\"DESCRIBE data\").show()"
   ]
  },
  {
   "cell_type": "code",
   "execution_count": 11,
   "id": "bc2b1bde",
   "metadata": {},
   "outputs": [
    {
     "data": {
      "application/vnd.jupyter.widget-view+json": {
       "model_id": "",
       "version_major": 2,
       "version_minor": 0
      },
      "text/plain": [
       "FloatProgress(value=0.0, bar_style='info', description='Progress:', layout=Layout(height='25px', width='50%'),…"
      ]
     },
     "metadata": {},
     "output_type": "display_data"
    }
   ],
   "source": [
    "from pyspark.sql.functions import monotonically_increasing_id\n",
    "\n",
    "# Select distinct authors and add a unique ID\n",
    "authors_df = df_data.select(\"authors\").withColumn(\"AuthorID\", monotonically_increasing_id())\n",
    "\n",
    "# Save to S3\n",
    "authors_df.write.mode(\"overwrite\").option(\"path\", \"s3://big-data-jayson/final_project/output/Authors\").saveAsTable(\"Authors\")\n"
   ]
  },
  {
   "cell_type": "code",
   "execution_count": 12,
   "id": "f4a7a618",
   "metadata": {},
   "outputs": [
    {
     "data": {
      "application/vnd.jupyter.widget-view+json": {
       "model_id": "",
       "version_major": 2,
       "version_minor": 0
      },
      "text/plain": [
       "FloatProgress(value=0.0, bar_style='info', description='Progress:', layout=Layout(height='25px', width='50%'),…"
      ]
     },
     "metadata": {},
     "output_type": "display_data"
    }
   ],
   "source": [
    "from pyspark.sql.functions import monotonically_increasing_id\n",
    "\n",
    "# Select distinct publishers and add a unique ID\n",
    "publishers_df = df_data.select(\"publisher\").withColumn(\"PublisherID\", monotonically_increasing_id())\n",
    "\n",
    "# Save to S3\n",
    "publishers_df.write.mode(\"overwrite\").option(\"path\", \"s3://big-data-jayson/final_project/output/Publishers\").saveAsTable(\"Publishers\")\n"
   ]
  },
  {
   "cell_type": "code",
   "execution_count": 13,
   "id": "b88300f4",
   "metadata": {},
   "outputs": [
    {
     "data": {
      "application/vnd.jupyter.widget-view+json": {
       "model_id": "",
       "version_major": 2,
       "version_minor": 0
      },
      "text/plain": [
       "FloatProgress(value=0.0, bar_style='info', description='Progress:', layout=Layout(height='25px', width='50%'),…"
      ]
     },
     "metadata": {},
     "output_type": "display_data"
    }
   ],
   "source": [
    "from pyspark.sql.functions import monotonically_increasing_id\n",
    "\n",
    "# Select distinct categories and add a unique ID\n",
    "categories_df = df_data.select(\"categories\").withColumn(\"CategoriesID\", monotonically_increasing_id())\n",
    "\n",
    "# Save to S3\n",
    "categories_df.write.mode(\"overwrite\").option(\"path\", \"s3://big-data-jayson/final_project/output/Categories\").saveAsTable(\"Categories\")\n"
   ]
  },
  {
   "cell_type": "code",
   "execution_count": 14,
   "id": "2d54e6f6",
   "metadata": {},
   "outputs": [
    {
     "data": {
      "application/vnd.jupyter.widget-view+json": {
       "model_id": "",
       "version_major": 2,
       "version_minor": 0
      },
      "text/plain": [
       "FloatProgress(value=0.0, bar_style='info', description='Progress:', layout=Layout(height='25px', width='50%'),…"
      ]
     },
     "metadata": {},
     "output_type": "display_data"
    }
   ],
   "source": [
    "# Assuming 'df_data' is your DataFrame\n",
    "books_df = df_data.selectExpr(\"Title\",\n",
    "                              \"authors\",\n",
    "                              \"publisher\",\n",
    "                              \"categories\",\n",
    "                              \"description AS Description\",\n",
    "                              \"image AS Image\",\n",
    "                              \"previewLink AS PreviewLink\",\n",
    "                              \"publishedDate AS PublishedDate\",\n",
    "                              \"infoLink AS InfoLink\",\n",
    "                              \"cast(ratingsCount as int) AS RatingsCount\")\n",
    "\n",
    "# Assuming you have the logic to add AuthorID, PublisherID, and CategoriesID\n",
    "# For example, this could be a join operation with the respective tables\n",
    "# books_df = books_df.join(authors_df, ...)\n",
    "# books_df = books_df.join(publishers_df, ...)\n",
    "# books_df = books_df.join(categories_df, ...)\n",
    "books_df.write.mode(\"overwrite\").option(\"path\", \"s3://big-data-jayson/final_project/output/Books\").saveAsTable(\"Books\")"
   ]
  },
  {
   "cell_type": "code",
   "execution_count": 15,
   "id": "a6bf5af8",
   "metadata": {},
   "outputs": [
    {
     "data": {
      "application/vnd.jupyter.widget-view+json": {
       "model_id": "",
       "version_major": 2,
       "version_minor": 0
      },
      "text/plain": [
       "FloatProgress(value=0.0, bar_style='info', description='Progress:', layout=Layout(height='25px', width='50%'),…"
      ]
     },
     "metadata": {},
     "output_type": "display_data"
    }
   ],
   "source": [
    "from pyspark.sql.functions import monotonically_increasing_id\n",
    "\n",
    "# Assuming 'persistent_table' is your DataFrame\n",
    "# Adding a 'ReviewID' column to mimic an auto-incrementing primary key\n",
    "reviews_ratings_df = df_rating.withColumn(\"ReviewID\", monotonically_increasing_id()) \\\n",
    "                                     .selectExpr(\"ReviewID\",\n",
    "                                                 \"Title\",\n",
    "                                                 \"User_id as UserID\",\n",
    "                                                 \"Score\",\n",
    "                                                 \"Time\",\n",
    "                                                 \"review_Title as ReviewTitle\",\n",
    "                                                 \"review_Text as ReviewText\",\n",
    "                                                 \"n_helpful_review as NHelpfulReview\",\n",
    "                                                 \"n_views as NViews\")\n",
    "reviews_ratings_df.write.mode(\"overwrite\").option(\"path\", \"s3://big-data-jayson/final_project/output/reviews_rating\").saveAsTable(\"reviews_rating\")\n"
   ]
  },
  {
   "cell_type": "code",
   "execution_count": 16,
   "id": "828ae367",
   "metadata": {},
   "outputs": [
    {
     "data": {
      "application/vnd.jupyter.widget-view+json": {
       "model_id": "",
       "version_major": 2,
       "version_minor": 0
      },
      "text/plain": [
       "FloatProgress(value=0.0, bar_style='info', description='Progress:', layout=Layout(height='25px', width='50%'),…"
      ]
     },
     "metadata": {},
     "output_type": "display_data"
    },
    {
     "name": "stdout",
     "output_type": "stream",
     "text": [
      "+--------------------+--------+\n",
      "|             authors|AuthorID|\n",
      "+--------------------+--------+\n",
      "|    ['Julie Strain']|       0|\n",
      "|    ['David R. Ray']|       1|\n",
      "| ['Veronica Haddon']|       2|\n",
      "|['Everett Ferguson']|       3|\n",
      "|['Mary Fabyan Win...|       4|\n",
      "|  ['Steven Wardell']|       5|\n",
      "|['Camillia Fawzi ...|       6|\n",
      "|['Armando Salda A...|       7|\n",
      "|['Evelyn B. Chris...|       8|\n",
      "|      ['Frank Owen']|       9|\n",
      "|     ['Barry Crump']|      10|\n",
      "|    ['Fiona Cownie']|      11|\n",
      "|['Kenneth H. Coop...|      12|\n",
      "|     ['Robert Kane']|      13|\n",
      "|['Dorling Kinders...|      14|\n",
      "|     ['Howard Hill']|      15|\n",
      "| ['Arthur J. Droge']|      16|\n",
      "|   ['Donald Laming']|      17|\n",
      "|['Steve Richardson']|      18|\n",
      "|     ['Rupert Fike']|      19|\n",
      "+--------------------+--------+\n",
      "only showing top 20 rows"
     ]
    }
   ],
   "source": [
    "spark.sql(\"SELECT * FROM Authors\").show()"
   ]
  },
  {
   "cell_type": "code",
   "execution_count": 17,
   "id": "b1a961b2",
   "metadata": {},
   "outputs": [
    {
     "data": {
      "application/vnd.jupyter.widget-view+json": {
       "model_id": "",
       "version_major": 2,
       "version_minor": 0
      },
      "text/plain": [
       "FloatProgress(value=0.0, bar_style='info', description='Progress:', layout=Layout(height='25px', width='50%'),…"
      ]
     },
     "metadata": {},
     "output_type": "display_data"
    },
    {
     "name": "stdout",
     "output_type": "stream",
     "text": [
      "+--------------------+-----------+\n",
      "|           publisher|PublisherID|\n",
      "+--------------------+-----------+\n",
      "|     Arkive Editions|          0|\n",
      "|       Spinsters Ink|          1|\n",
      "|           iUniverse|          2|\n",
      "|Wm. B. Eerdmans P...|          3|\n",
      "|     Tan Books & Pub|          4|\n",
      "|  Plympton PressIntl|          5|\n",
      "|    Berg Pub Limited|          6|\n",
      "|Relax into Your S...|          7|\n",
      "|            Sky Pony|          8|\n",
      "|Pickle Partners P...|          9|\n",
      "|Pocket Naturalist...|         10|\n",
      "|Bloomsbury Publis...|         11|\n",
      "|              Bantam|         12|\n",
      "|             OUP USA|         13|\n",
      "|New York, N.Y. : ...|         14|\n",
      "|     Derrydale Press|         15|\n",
      "|        Mohr Siebeck|         16|\n",
      "|   John Wiley & Sons|         17|\n",
      "|  Simon and Schuster|         18|\n",
      "|Book Publishing C...|         19|\n",
      "+--------------------+-----------+\n",
      "only showing top 20 rows"
     ]
    }
   ],
   "source": [
    "spark.sql(\"SELECT * FROM Publishers\").show()"
   ]
  },
  {
   "cell_type": "code",
   "execution_count": 18,
   "id": "58f69841",
   "metadata": {},
   "outputs": [
    {
     "data": {
      "application/vnd.jupyter.widget-view+json": {
       "model_id": "",
       "version_major": 2,
       "version_minor": 0
      },
      "text/plain": [
       "FloatProgress(value=0.0, bar_style='info', description='Progress:', layout=Layout(height='25px', width='50%'),…"
      ]
     },
     "metadata": {},
     "output_type": "display_data"
    },
    {
     "name": "stdout",
     "output_type": "stream",
     "text": [
      "+--------------------+------------+\n",
      "|          categories|CategoriesID|\n",
      "+--------------------+------------+\n",
      "|['Comics & Graphi...|           0|\n",
      "|        ['Religion']|           1|\n",
      "|         ['Fiction']|           2|\n",
      "|        ['Religion']|           3|\n",
      "|['Biography & Aut...|           4|\n",
      "|  ['Social Science']|           5|\n",
      "|        ['Religion']|           6|\n",
      "|       ['Reference']|           7|\n",
      "|['Juvenile Nonfic...|           8|\n",
      "|         ['History']|           9|\n",
      "|['New Zealand fic...|          10|\n",
      "|             ['Law']|          11|\n",
      "|['Health & Fitness']|          12|\n",
      "|      ['Philosophy']|          13|\n",
      "|          ['Europe']|          14|\n",
      "|['Sports & Recrea...|          15|\n",
      "|        ['Religion']|          16|\n",
      "|      ['Psychology']|          17|\n",
      "|['Sports & Recrea...|          18|\n",
      "|['Biography & Aut...|          19|\n",
      "+--------------------+------------+\n",
      "only showing top 20 rows"
     ]
    }
   ],
   "source": [
    "spark.sql(\"SELECT * FROM Categories\").show()"
   ]
  },
  {
   "cell_type": "code",
   "execution_count": 19,
   "id": "232455e1",
   "metadata": {},
   "outputs": [
    {
     "data": {
      "application/vnd.jupyter.widget-view+json": {
       "model_id": "",
       "version_major": 2,
       "version_minor": 0
      },
      "text/plain": [
       "FloatProgress(value=0.0, bar_style='info', description='Progress:', layout=Layout(height='25px', width='50%'),…"
      ]
     },
     "metadata": {},
     "output_type": "display_data"
    },
    {
     "name": "stdout",
     "output_type": "stream",
     "text": [
      "+--------------------+--------------------+--------------------+--------------------+--------------------+--------------------+--------------------+-------------+--------------------+------------+\n",
      "|               Title|             authors|           publisher|          categories|         Description|               Image|         PreviewLink|PublishedDate|            InfoLink|RatingsCount|\n",
      "+--------------------+--------------------+--------------------+--------------------+--------------------+--------------------+--------------------+-------------+--------------------+------------+\n",
      "|Its Only Art If I...|    ['Julie Strain']|     Arkive Editions|['Comics & Graphi...|                null|http://books.goog...|http://books.goog...|         1996|http://books.goog...|           0|\n",
      "|Wonderful Worship...|    ['David R. Ray']|       Spinsters Ink|        ['Religion']|This resource inc...|http://books.goog...|http://books.goog...|         2000|http://books.goog...|           0|\n",
      "|Whispers of the W...| ['Veronica Haddon']|           iUniverse|         ['Fiction']|Julia Thomas find...|http://books.goog...|http://books.goog...|      2005-02|http://books.goog...|           0|\n",
      "|The Church of Chr...|['Everett Ferguson']|Wm. B. Eerdmans P...|        ['Religion']|In The Church of ...|http://books.goog...|http://books.goog...|         1996|http://books.goog...|           5|\n",
      "|Saint Hyacinth of...|['Mary Fabyan Win...|     Tan Books & Pub|['Biography & Aut...|The story for chi...|http://books.goog...|http://books.goog...|   2009-01-01|http://books.goog...|           0|\n",
      "|Rising Sons and D...|  ['Steven Wardell']|  Plympton PressIntl|  ['Social Science']|Wardell recalls h...|                null|http://books.goog...|         1995|http://books.goog...|           0|\n",
      "|Muslim Women's Ch...|['Camillia Fawzi ...|    Berg Pub Limited|        ['Religion']|Counters the West...|http://books.goog...|http://books.goog...|   1994-02-17|http://books.goog...|           0|\n",
      "|Dramatica for Scr...|['Armando Salda A...|Relax into Your S...|       ['Reference']|Dramatica for Scr...|http://books.goog...|http://books.goog...|      2005-07|http://books.goog...|           0|\n",
      "|Mensa Number Puzz...|['Evelyn B. Chris...|            Sky Pony|['Juvenile Nonfic...|Acclaimed teacher...|http://books.goog...|http://books.goog...|   2018-11-06|http://books.goog...|           0|\n",
      "|A husband for Kutani|      ['Frank Owen']|Pickle Partners P...|         ['History']|First published i...|http://books.goog...|http://books.goog...|   2018-02-27|https://play.goog...|           0|\n",
      "| Gold and greenstone|     ['Barry Crump']|Pocket Naturalist...|['New Zealand fic...|Sally did most th...|                null|http://books.goog...|         2009|http://books.goog...|           0|\n",
      "|\"The Ultimate Gui...|    ['Fiona Cownie']|Bloomsbury Publis...|             ['Law']|This collection b...|http://books.goog...|http://books.goog...|   2010-01-28|https://play.goog...|           0|\n",
      "|Overcoming Hypert...|['Kenneth H. Coop...|              Bantam|['Health & Fitness']|Like a time bomb ...|http://books.goog...|http://books.goog...|   2012-02-01|https://play.goog...|           0|\n",
      "|The Oxford Handbo...|     ['Robert Kane']|             OUP USA|      ['Philosophy']|A guide to curren...|http://books.goog...|http://books.goog...|   2011-07-27|http://books.goog...|           0|\n",
      "|Eyewitness Travel...|['Dorling Kinders...|New York, N.Y. : ...|          ['Europe']|The DK Eyewitness...|http://books.goog...|http://books.goog...|   2015-06-15|http://books.goog...|           0|\n",
      "|Hunting The Hard Way|     ['Howard Hill']|     Derrydale Press|['Sports & Recrea...|Thrilling stories...|http://books.goog...|http://books.goog...|   2000-04-26|https://play.goog...|           0|\n",
      "|Homer or Moses?: ...| ['Arthur J. Droge']|        Mohr Siebeck|        ['Religion']|                null|http://books.goog...|http://books.goog...|         1989|http://books.goog...|           0|\n",
      "|   Paolo Di Canio Hb|   ['Donald Laming']|   John Wiley & Sons|      ['Psychology']|Understanding Hum...|http://books.goog...|http://books.goog...|   2008-04-15|https://play.goog...|           0|\n",
      "|Ricky Williams: D...|['Steve Richardson']|  Simon and Schuster|['Sports & Recrea...|Ricky Williams is...|http://books.goog...|http://books.goog...|   2012-02-07|http://books.goog...|           0|\n",
      "|Voices from the F...|     ['Rupert Fike']|Book Publishing C...|['Biography & Aut...|Twenty-five years...|http://books.goog...|http://books.goog...|   2012-08-21|https://play.goog...|           1|\n",
      "+--------------------+--------------------+--------------------+--------------------+--------------------+--------------------+--------------------+-------------+--------------------+------------+\n",
      "only showing top 20 rows"
     ]
    }
   ],
   "source": [
    "spark.sql(\"SELECT * FROM Books\").show()"
   ]
  },
  {
   "cell_type": "code",
   "execution_count": 20,
   "id": "1dfa508a",
   "metadata": {},
   "outputs": [
    {
     "data": {
      "application/vnd.jupyter.widget-view+json": {
       "model_id": "",
       "version_major": 2,
       "version_minor": 0
      },
      "text/plain": [
       "FloatProgress(value=0.0, bar_style='info', description='Progress:', layout=Layout(height='25px', width='50%'),…"
      ]
     },
     "metadata": {},
     "output_type": "display_data"
    },
    {
     "name": "stdout",
     "output_type": "stream",
     "text": [
      "+-----------+-----------------+--------------+-----+----------+--------------------+--------------------+--------------+------+\n",
      "|   ReviewID|            Title|        UserID|Score|      Time|         ReviewTitle|          ReviewText|NHelpfulReview|NViews|\n",
      "+-----------+-----------------+--------------+-----+----------+--------------------+--------------------+--------------+------+\n",
      "|42949672960|Old Man & the Sea| A17N23WXA7EAF|  5.0|2000-07-17|Possibly his best...|&quot;The Old Man...|             1|     2|\n",
      "|42949672961|Old Man & the Sea|A2WR2YJ0N95G5X|  5.0|2000-06-07|A story with meaning|This is my second...|             1|     2|\n",
      "|42949672962|Old Man & the Sea|A1UEAAODS7TAU5|  3.0|2000-06-05|new to hemingway ...|if you are new to...|             1|     2|\n",
      "|42949672963|Old Man & the Sea|A3NJRF10KWIAVF|  3.0|2000-02-20|Excellent Use of ...|Hemmingway demons...|             1|     2|\n",
      "|42949672964|Old Man & the Sea| AUWKMVQ7I6KXQ|  4.0|1999-12-20|Classic Reading, ...|The Old Man and t...|             1|     2|\n",
      "|42949672965|Old Man & the Sea|A1NF2FJFTMRLKN|  1.0|2003-02-03|        disappointed|this book was rea...|             3|    14|\n",
      "|42949672966|Old Man & the Sea|A1FLT2OXFKCDHF|  1.0|2000-01-05|I actually fell a...|i actually fell a...|             2|    12|\n",
      "|42949672967|Old Man & the Sea|A1IC36OFSBUA79|  2.0|2007-01-09|         HMMMMM.....|I couldn't finish...|             1|    10|\n",
      "|42949672968|Old Man & the Sea|A1C4T329FB60GV|  1.0|2004-01-05|Depressiung book,...|This book sucks. ...|             7|    23|\n",
      "|42949672969|Old Man & the Sea|A14JGI2XYVFC8W|  2.0|2011-11-14|Gratuitous cruelt...|\"After finishing ...|             0|     9|\n",
      "|42949672970|Old Man & the Sea|A1PEIYVBP09WGU|  1.0|2010-01-22|The Old Man and t...|So boring, just a...|             0|     9|\n",
      "|42949672971|Old Man & the Sea|A3VAXB8CDYY5BG|  2.0|2006-03-28|Great Ambition Is...|\"Despite being ti...|             3|    16|\n",
      "|42949672972|Old Man & the Sea|A2HR0DJG4WMR8R|  1.0|2001-08-03|Nothing &quot;cla...|\"I rebelled again...|             0|    10|\n",
      "|42949672973|Old Man & the Sea|A23DB6LXA0NPZ0|  1.0|2004-11-09|Terrible worst bo...|This book is terr...|             4|    22|\n",
      "|42949672974|Old Man & the Sea|A2YM3KILJ1G0YJ|  5.0|2006-03-30|Hemingway's best ...|The Old Man and t...|             5|     8|\n",
      "|42949672975|Old Man & the Sea|A1X2B4GMXBXW8G|  4.0|2002-03-13|        Its 'da Bomb|Review of The Old...|             5|     8|\n",
      "|42949672976|Old Man & the Sea|A20VXF9DYI0I6H|  4.0|2007-03-17|Simple and powerf...|There are people ...|             3|     5|\n",
      "|42949672977|Old Man & the Sea|A28ZOZJU5A30Z0|  4.0|2006-05-02|  Triumph and Defeat|\"A short but powe...|             3|     5|\n",
      "|42949672978|Old Man & the Sea|A1JTG5X4VHJV27|  3.0|2003-03-17|Becoming One with...|Hemingway's Nobel...|             3|     5|\n",
      "|42949672979|Old Man & the Sea|A274DQ0Y9J0YSF|  3.0|2001-09-18|The most boring b...|I must say that a...|             3|     5|\n",
      "+-----------+-----------------+--------------+-----+----------+--------------------+--------------------+--------------+------+\n",
      "only showing top 20 rows"
     ]
    }
   ],
   "source": [
    "spark.sql(\"SELECT * FROM reviews_rating\").show()"
   ]
  },
  {
   "cell_type": "code",
   "execution_count": 21,
   "id": "6e85eb2d",
   "metadata": {},
   "outputs": [
    {
     "data": {
      "application/vnd.jupyter.widget-view+json": {
       "model_id": "",
       "version_major": 2,
       "version_minor": 0
      },
      "text/plain": [
       "FloatProgress(value=0.0, bar_style='info', description='Progress:', layout=Layout(height='25px', width='50%'),…"
      ]
     },
     "metadata": {},
     "output_type": "display_data"
    },
    {
     "name": "stdout",
     "output_type": "stream",
     "text": [
      "+--------------------+-------------------+\n",
      "|               Title|TotalHelpfulReviews|\n",
      "+--------------------+-------------------+\n",
      "|   Mere Christianity|              43624|\n",
      "| Pride and Prejudice|              42598|\n",
      "|          The Hobbit|              24527|\n",
      "|  Rich Dad, Poor Dad|              22648|\n",
      "|An inquiry into t...|              19617|\n",
      "|How to Talk to a ...|              18179|\n",
      "|Liberal Fascism: ...|              17033|\n",
      "|THE BOOK OF MORMO...|              16857|\n",
      "|     Brave New World|              15862|\n",
      "|Confessions of an...|              15613|\n",
      "+--------------------+-------------------+"
     ]
    }
   ],
   "source": [
    "# Business insights and queries\n",
    "\n",
    "# 1\n",
    "# Books with Most Helpful Reviews\n",
    "# Find books with the highest number of helpful reviews.\n",
    "\n",
    "spark.sql(\"\"\"\n",
    "    SELECT B.Title, SUM(RR.NHelpfulReview) as TotalHelpfulReviews \n",
    "    FROM Books B JOIN reviews_rating RR ON B.Title = RR.Title \n",
    "    GROUP BY B.Title\n",
    "    ORDER BY TotalHelpfulReviews DESC \n",
    "    LIMIT 10\n",
    "\"\"\").show()"
   ]
  },
  {
   "cell_type": "code",
   "execution_count": 22,
   "id": "2726065e",
   "metadata": {},
   "outputs": [
    {
     "data": {
      "application/vnd.jupyter.widget-view+json": {
       "model_id": "",
       "version_major": 2,
       "version_minor": 0
      },
      "text/plain": [
       "FloatProgress(value=0.0, bar_style='info', description='Progress:', layout=Layout(height='25px', width='50%'),…"
      ]
     },
     "metadata": {},
     "output_type": "display_data"
    },
    {
     "name": "stdout",
     "output_type": "stream",
     "text": [
      "+----+----------+-------------------+\n",
      "|Year|TotalViews|TotalHelpfulReviews|\n",
      "+----+----------+-------------------+\n",
      "|1969|       144|                117|\n",
      "|1996|        73|                 62|\n",
      "|1997|     37614|              29957|\n",
      "|1998|    189700|             151582|\n",
      "|1999|    555785|             424483|\n",
      "|2000|   1955449|            1516935|\n",
      "|2001|   1498377|            1146822|\n",
      "|2002|   1377807|            1029869|\n",
      "|2003|   1406241|            1044377|\n",
      "|2004|   1922556|            1342568|\n",
      "|2005|   2271529|            1559073|\n",
      "|2006|   1789789|            1220127|\n",
      "|2007|    989382|             659312|\n",
      "|2008|    644782|             410322|\n",
      "|2009|    565389|             346336|\n",
      "|2010|    521829|             327684|\n",
      "|2011|    403802|             234823|\n",
      "|2012|    269606|             149867|\n",
      "|2013|     29898|              16527|\n",
      "+----+----------+-------------------+"
     ]
    }
   ],
   "source": [
    "# 2\n",
    "# User Engagement Analysis\n",
    "# Analyze how user engagement (views and helpful reviews) changes over time.\n",
    "\n",
    "spark.sql(\"\"\"\n",
    "    SELECT YEAR(RR.Time) as Year, SUM(RR.NViews) as TotalViews, SUM(RR.NHelpfulReview) as TotalHelpfulReviews\n",
    "    FROM reviews_rating RR\n",
    "    GROUP BY Year\n",
    "    ORDER BY Year;\n",
    "\"\"\").show()\n"
   ]
  },
  {
   "cell_type": "code",
   "execution_count": 24,
   "id": "214ae699",
   "metadata": {},
   "outputs": [
    {
     "data": {
      "application/vnd.jupyter.widget-view+json": {
       "model_id": "",
       "version_major": 2,
       "version_minor": 0
      },
      "text/plain": [
       "FloatProgress(value=0.0, bar_style='info', description='Progress:', layout=Layout(height='25px', width='50%'),…"
      ]
     },
     "metadata": {},
     "output_type": "display_data"
    },
    {
     "name": "stdout",
     "output_type": "stream",
     "text": [
      "+---------+-----------------+\n",
      "| BookType|         AvgScore|\n",
      "+---------+-----------------+\n",
      "|Old Books|4.228405977745751|\n",
      "|New Books|4.261897723913686|\n",
      "+---------+-----------------+"
     ]
    }
   ],
   "source": [
    "# 3\n",
    "# New vs. Old Books Comparison\n",
    "# Compare the average ratings of new books (e.g., published in the last 5 years) versus older books.\n",
    "\n",
    "spark.sql(\"\"\"\n",
    "SELECT \n",
    "    CASE \n",
    "        WHEN YEAR(B.PublishedDate) >= YEAR(CURDATE()) - 5 THEN 'New Books' \n",
    "        ELSE 'Old Books' \n",
    "    END as BookType,\n",
    "    AVG(RR.Score) as AvgScore\n",
    "FROM Books B\n",
    "JOIN reviews_rating RR ON B.Title = RR.Title\n",
    "GROUP BY BookType;\n",
    "\"\"\").show()"
   ]
  },
  {
   "cell_type": "code",
   "execution_count": 32,
   "id": "ead4deec",
   "metadata": {},
   "outputs": [
    {
     "data": {
      "application/vnd.jupyter.widget-view+json": {
       "model_id": "",
       "version_major": 2,
       "version_minor": 0
      },
      "text/plain": [
       "FloatProgress(value=0.0, bar_style='info', description='Progress:', layout=Layout(height='25px', width='50%'),…"
      ]
     },
     "metadata": {},
     "output_type": "display_data"
    },
    {
     "name": "stdout",
     "output_type": "stream",
     "text": [
      "+--------------------+------------------+\n",
      "|          categories|    NHelpfulReview|\n",
      "+--------------------+------------------+\n",
      "|['Music by women ...|              96.0|\n",
      "|        ['Chimneys']|              96.0|\n",
      "|['Firefly (Televi...|              85.5|\n",
      "|  ['Diet, Reducing']|              73.0|\n",
      "|        ['Flooring']|              59.0|\n",
      "| ['Avian influenza']|             58.75|\n",
      "|['Economic assist...|              48.0|\n",
      "|['Satire, American']|              45.0|\n",
      "|['Instructional s...|44.666666666666664|\n",
      "|['Cookery (Stevia)']|              42.5|\n",
      "+--------------------+------------------+"
     ]
    }
   ],
   "source": [
    "# 4\n",
    "# Top 10 Categories with the Highest Average NHelpfulReview\n",
    "\n",
    "spark.sql(\"\"\"\n",
    "SELECT B.categories, AVG(RR.NHelpfulReview) as NHelpfulReview\n",
    "FROM books B\n",
    "JOIN reviews_rating RR ON B.Title = RR.Title\n",
    "GROUP BY B.categories\n",
    "ORDER BY NHelpfulReview DESC\n",
    "LIMIT 10\n",
    "\"\"\").show()"
   ]
  },
  {
   "cell_type": "code",
   "execution_count": 33,
   "id": "88489382",
   "metadata": {},
   "outputs": [
    {
     "data": {
      "application/vnd.jupyter.widget-view+json": {
       "model_id": "",
       "version_major": 2,
       "version_minor": 0
      },
      "text/plain": [
       "FloatProgress(value=0.0, bar_style='info', description='Progress:', layout=Layout(height='25px', width='50%'),…"
      ]
     },
     "metadata": {},
     "output_type": "display_data"
    },
    {
     "name": "stdout",
     "output_type": "stream",
     "text": [
      "+--------------------+--------------+\n",
      "|          categories|NHelpfulReview|\n",
      "+--------------------+--------------+\n",
      "|         ['Fiction']|       1880384|\n",
      "|        ['Religion']|        517201|\n",
      "|         ['History']|        412754|\n",
      "|['Biography & Aut...|        391334|\n",
      "|['Juvenile Fiction']|        315930|\n",
      "|['Business & Econ...|        291577|\n",
      "|['Political Scien...|        168173|\n",
      "|['Health & Fitness']|        163818|\n",
      "|         ['Cooking']|        159376|\n",
      "|['Body, Mind & Sp...|        146234|\n",
      "+--------------------+--------------+"
     ]
    }
   ],
   "source": [
    "# 5\n",
    "# Top 10 Categories with the Highest Sum NHelpfulReview\n",
    "\n",
    "spark.sql(\"\"\"\n",
    "SELECT B.categories, SUM(RR.NHelpfulReview) as NHelpfulReview\n",
    "FROM books B\n",
    "JOIN reviews_rating RR ON B.Title = RR.Title\n",
    "GROUP BY B.categories\n",
    "ORDER BY NHelpfulReview DESC\n",
    "LIMIT 10\n",
    "\"\"\").show()"
   ]
  },
  {
   "cell_type": "code",
   "execution_count": 34,
   "id": "a935065a",
   "metadata": {},
   "outputs": [
    {
     "data": {
      "application/vnd.jupyter.widget-view+json": {
       "model_id": "",
       "version_major": 2,
       "version_minor": 0
      },
      "text/plain": [
       "FloatProgress(value=0.0, bar_style='info', description='Progress:', layout=Layout(height='25px', width='50%'),…"
      ]
     },
     "metadata": {},
     "output_type": "display_data"
    },
    {
     "name": "stdout",
     "output_type": "stream",
     "text": [
      "+--------------------+--------------+\n",
      "|             authors|NHelpfulReview|\n",
      "+--------------------+--------------+\n",
      "|     ['C. S. Lewis']|         67169|\n",
      "|     ['Jane Austen']|         65720|\n",
      "|['J. R. R. Tolkien']|         51364|\n",
      "|      ['Adam Smith']|         39546|\n",
      "| ['Charles Dickens']|         33593|\n",
      "|  ['John Steinbeck']|         32584|\n",
      "|     ['James Joyce']|         24696|\n",
      "|   ['Kurt Vonnegut']|         24610|\n",
      "|['Robert A. Heinl...|         23904|\n",
      "|['Sharon L. Lecht...|         22648|\n",
      "+--------------------+--------------+"
     ]
    }
   ],
   "source": [
    "# 6\n",
    "# Sum NHelpfulReview by Author\n",
    "\n",
    "spark.sql(\"\"\"\n",
    "SELECT authors, SUM(RR.NHelpfulReview) as NHelpfulReview\n",
    "FROM books B\n",
    "JOIN reviews_rating RR ON B.Title = RR.Title\n",
    "GROUP BY B.authors\n",
    "ORDER BY NHelpfulReview DESC\n",
    "LIMIT 10\n",
    "\"\"\").show()\n"
   ]
  },
  {
   "cell_type": "code",
   "execution_count": 35,
   "id": "402ad0c7",
   "metadata": {},
   "outputs": [
    {
     "data": {
      "application/vnd.jupyter.widget-view+json": {
       "model_id": "",
       "version_major": 2,
       "version_minor": 0
      },
      "text/plain": [
       "FloatProgress(value=0.0, bar_style='info', description='Progress:', layout=Layout(height='25px', width='50%'),…"
      ]
     },
     "metadata": {},
     "output_type": "display_data"
    },
    {
     "name": "stdout",
     "output_type": "stream",
     "text": [
      "+--------------------+--------+\n",
      "|             authors|   Score|\n",
      "+--------------------+--------+\n",
      "|['J. R. R. Tolkien']|133057.0|\n",
      "|     ['Jane Austen']|115277.0|\n",
      "| ['Charles Dickens']| 63929.0|\n",
      "|  ['John Steinbeck']| 53607.0|\n",
      "|     ['C. S. Lewis']| 45201.0|\n",
      "|   ['Kurt Vonnegut']| 42719.0|\n",
      "|      ['Harper Lee']| 38172.0|\n",
      "|['John Ronald Reu...| 36154.0|\n",
      "|['F. Scott Fitzge...| 34797.0|\n",
      "|   ['Lewis Carroll']| 31745.0|\n",
      "+--------------------+--------+"
     ]
    }
   ],
   "source": [
    "# 7\n",
    "# Sum Score by Author\n",
    "\n",
    "spark.sql(\"\"\"\n",
    "SELECT authors, SUM(RR.Score) as Score\n",
    "FROM books B\n",
    "JOIN reviews_rating RR ON B.Title = RR.Title\n",
    "GROUP BY B.authors\n",
    "ORDER BY Score DESC\n",
    "LIMIT 10\n",
    "\"\"\").show()\n"
   ]
  },
  {
   "cell_type": "code",
   "execution_count": 36,
   "id": "e1071531",
   "metadata": {},
   "outputs": [
    {
     "data": {
      "application/vnd.jupyter.widget-view+json": {
       "model_id": "",
       "version_major": 2,
       "version_minor": 0
      },
      "text/plain": [
       "FloatProgress(value=0.0, bar_style='info', description='Progress:', layout=Layout(height='25px', width='50%'),…"
      ]
     },
     "metadata": {},
     "output_type": "display_data"
    },
    {
     "name": "stdout",
     "output_type": "stream",
     "text": [
      "+--------------------+------------------+\n",
      "|             authors|    NHelpfulReview|\n",
      "+--------------------+------------------+\n",
      "|['James D. Hart',...|             194.0|\n",
      "|['Jacques Galinie...|174.11764705882354|\n",
      "|['Andrew David Na...|             145.0|\n",
      "|['Jim Bauer', 'Sc...|             132.0|\n",
      "|   ['Richard Perez']|           112.875|\n",
      "|    ['Eileen Logan']|             110.0|\n",
      "|['Richard Martin ...|             102.0|\n",
      "|['William H. Fris...|101.45454545454545|\n",
      "|['Susan Dickens',...|              97.0|\n",
      "|['Pamela Youngdah...|              96.0|\n",
      "+--------------------+------------------+"
     ]
    }
   ],
   "source": [
    "# 8\n",
    "# Average NHelpfulReview by Author\n",
    "\n",
    "spark.sql(\"\"\"\n",
    "SELECT authors, AVG(RR.NHelpfulReview) as NHelpfulReview\n",
    "FROM books B\n",
    "JOIN reviews_rating RR ON B.Title = RR.Title\n",
    "GROUP BY B.authors\n",
    "ORDER BY NHelpfulReview DESC\n",
    "LIMIT 10\n",
    "\"\"\").show()\n"
   ]
  },
  {
   "cell_type": "code",
   "execution_count": 38,
   "id": "8daec4e0",
   "metadata": {},
   "outputs": [
    {
     "data": {
      "application/vnd.jupyter.widget-view+json": {
       "model_id": "",
       "version_major": 2,
       "version_minor": 0
      },
      "text/plain": [
       "FloatProgress(value=0.0, bar_style='info', description='Progress:', layout=Layout(height='25px', width='50%'),…"
      ]
     },
     "metadata": {},
     "output_type": "display_data"
    },
    {
     "name": "stdout",
     "output_type": "stream",
     "text": [
      "+--------------------+------------------+\n",
      "|               Title|    NHelpfulReview|\n",
      "+--------------------+------------------+\n",
      "|Through the Stone...|             194.0|\n",
      "|     The Lazarus Pit|             189.0|\n",
      "|Quines Son Los Do...|174.11764705882354|\n",
      "|Zondervan NIV Stu...|             145.0|\n",
      "|Deck planner: 25 ...|             132.0|\n",
      "|A practical Sansk...|             123.0|\n",
      "|The Losers Club: ...|           112.875|\n",
      "|How To Grow Organ...|             110.0|\n",
      "|School Nurse's Su...|             102.0|\n",
      "|Good People Beget...|101.45454545454545|\n",
      "+--------------------+------------------+"
     ]
    }
   ],
   "source": [
    "# 9\n",
    "# Top 10 Books(Title) with the Highest Average NHelpfulReview\n",
    "\n",
    "spark.sql(\"\"\"\n",
    "SELECT B.Title, AVG(RR.NHelpfulReview) as NHelpfulReview\n",
    "FROM books B\n",
    "JOIN reviews_rating RR ON B.Title = RR.Title\n",
    "GROUP BY B.Title\n",
    "ORDER BY NHelpfulReview DESC\n",
    "LIMIT 10\n",
    "\"\"\").show()\n"
   ]
  },
  {
   "cell_type": "code",
   "execution_count": 39,
   "id": "cfdf57d5",
   "metadata": {},
   "outputs": [
    {
     "data": {
      "application/vnd.jupyter.widget-view+json": {
       "model_id": "",
       "version_major": 2,
       "version_minor": 0
      },
      "text/plain": [
       "FloatProgress(value=0.0, bar_style='info', description='Progress:', layout=Layout(height='25px', width='50%'),…"
      ]
     },
     "metadata": {},
     "output_type": "display_data"
    },
    {
     "name": "stdout",
     "output_type": "stream",
     "text": [
      "+--------------------+-------+\n",
      "|               Title|  Score|\n",
      "+--------------------+-------+\n",
      "|          The Hobbit|85040.0|\n",
      "| Pride and Prejudice|81125.0|\n",
      "|   Mere Christianity|24826.0|\n",
      "|  Great Expectations|23557.0|\n",
      "|     Brave New World|21573.0|\n",
      "|    The Great Gatsby|17844.0|\n",
      "|Harry Potter and ...|17490.0|\n",
      "|The Hobbit There ...|17177.0|\n",
      "|The Hobbitt, or t...|17098.0|\n",
      "|The Hobbit or The...|16862.0|\n",
      "+--------------------+-------+"
     ]
    }
   ],
   "source": [
    "# 10\n",
    "# Top 10 Books(Title) with the Highest Sum Score\n",
    "\n",
    "spark.sql(\"\"\"\n",
    "SELECT B.Title, SUM(RR.Score) as Score\n",
    "FROM books B\n",
    "JOIN reviews_rating RR ON B.Title = RR.Title\n",
    "GROUP BY B.Title\n",
    "ORDER BY Score DESC\n",
    "LIMIT 10\n",
    "\"\"\").show()\n"
   ]
  },
  {
   "cell_type": "code",
   "execution_count": 40,
   "id": "4763f621",
   "metadata": {},
   "outputs": [
    {
     "data": {
      "application/vnd.jupyter.widget-view+json": {
       "model_id": "",
       "version_major": 2,
       "version_minor": 0
      },
      "text/plain": [
       "FloatProgress(value=0.0, bar_style='info', description='Progress:', layout=Layout(height='25px', width='50%'),…"
      ]
     },
     "metadata": {},
     "output_type": "display_data"
    },
    {
     "name": "stdout",
     "output_type": "stream",
     "text": [
      "+--------------------+------------+\n",
      "|           Publisher|RatingsCount|\n",
      "+--------------------+------------+\n",
      "|             Penguin|       77862|\n",
      "|        Random House|       48596|\n",
      "|  Simon and Schuster|       48477|\n",
      "|      Harper Collins|       47901|\n",
      "|             Vintage|       32985|\n",
      "|Knopf Books for Y...|       26910|\n",
      "|           Macmillan|       16524|\n",
      "|         Hachette UK|       15145|\n",
      "|      Vintage Canada|       14111|\n",
      "|              Bantam|       13876|\n",
      "+--------------------+------------+"
     ]
    }
   ],
   "source": [
    "# 11\n",
    "# Top 10 Publisher with by RatingsCount\n",
    "\n",
    "spark.sql(\"\"\"\n",
    "SELECT Publisher, SUM(RatingsCount) as RatingsCount\n",
    "FROM books\n",
    "GROUP BY Publisher\n",
    "ORDER BY RatingsCount DESC\n",
    "LIMIT 10\n",
    "\"\"\").show()\n"
   ]
  },
  {
   "cell_type": "code",
   "execution_count": 44,
   "id": "d848c7e6",
   "metadata": {},
   "outputs": [
    {
     "data": {
      "application/vnd.jupyter.widget-view+json": {
       "model_id": "",
       "version_major": 2,
       "version_minor": 0
      },
      "text/plain": [
       "FloatProgress(value=0.0, bar_style='info', description='Progress:', layout=Layout(height='25px', width='50%'),…"
      ]
     },
     "metadata": {},
     "output_type": "display_data"
    },
    {
     "name": "stdout",
     "output_type": "stream",
     "text": [
      "+-------------------+--------------+\n",
      "|          Publisher|NHelpfulReview|\n",
      "+-------------------+--------------+\n",
      "|            Penguin|        389211|\n",
      "| Simon and Schuster|        374548|\n",
      "|     Harper Collins|        258886|\n",
      "|            Vintage|        153702|\n",
      "|       Random House|        132079|\n",
      "|  John Wiley & Sons|        106292|\n",
      "|Courier Corporation|        103254|\n",
      "|          Macmillan|         99950|\n",
      "|         Penguin UK|         93012|\n",
      "|        Hachette UK|         77359|\n",
      "+-------------------+--------------+"
     ]
    }
   ],
   "source": [
    "# 12\n",
    "# Top 10 Publisher with by NHelpfulReview\n",
    "\n",
    "spark.sql(\"\"\"\n",
    "SELECT B.Publisher, SUM(RR.NHelpfulReview) as NHelpfulReview\n",
    "FROM books B\n",
    "JOIN reviews_rating RR ON B.Title = RR.Title\n",
    "GROUP BY B.Publisher\n",
    "ORDER BY NHelpfulReview DESC\n",
    "LIMIT 10\n",
    "\"\"\").show()\n"
   ]
  },
  {
   "cell_type": "code",
   "execution_count": 47,
   "id": "41423e7e",
   "metadata": {},
   "outputs": [
    {
     "data": {
      "application/vnd.jupyter.widget-view+json": {
       "model_id": "",
       "version_major": 2,
       "version_minor": 0
      },
      "text/plain": [
       "FloatProgress(value=0.0, bar_style='info', description='Progress:', layout=Layout(height='25px', width='50%'),…"
      ]
     },
     "metadata": {},
     "output_type": "display_data"
    },
    {
     "name": "stdout",
     "output_type": "stream",
     "text": [
      "+--------------------+-----------------+\n",
      "|           Publisher|   NHelpfulReview|\n",
      "+--------------------+-----------------+\n",
      "|Masonry Inst of Amer|             96.0|\n",
      "|       Robert Najemy|70.23076923076923|\n",
      "|        Sean F Kelly|             58.0|\n",
      "|     EnCognitive.com|            52.62|\n",
      "|         S L G Books|             48.0|\n",
      "|Scott Foresman Trade|46.44444444444444|\n",
      "|         Copp, Clark|           42.375|\n",
      "|St. Paul, Minn., ...|41.86666666666667|\n",
      "|     Watermark Press|             41.0|\n",
      "|Amer West Pub & Dist|40.63636363636363|\n",
      "+--------------------+-----------------+"
     ]
    }
   ],
   "source": [
    "# 13\n",
    "# Top 10 Publisher with by Average NHelpfulReview\n",
    "\n",
    "spark.sql(\"\"\"\n",
    "SELECT B.Publisher, AVG(RR.NHelpfulReview) as NHelpfulReview\n",
    "FROM books B\n",
    "JOIN reviews_rating RR ON B.Title = RR.Title\n",
    "GROUP BY B.Publisher\n",
    "ORDER BY NHelpfulReview DESC\n",
    "LIMIT 10\n",
    "\"\"\").show()"
   ]
  },
  {
   "cell_type": "code",
   "execution_count": 45,
   "id": "3e2c4179",
   "metadata": {},
   "outputs": [
    {
     "data": {
      "application/vnd.jupyter.widget-view+json": {
       "model_id": "",
       "version_major": 2,
       "version_minor": 0
      },
      "text/plain": [
       "FloatProgress(value=0.0, bar_style='info', description='Progress:', layout=Layout(height='25px', width='50%'),…"
      ]
     },
     "metadata": {},
     "output_type": "display_data"
    },
    {
     "name": "stdout",
     "output_type": "stream",
     "text": [
      "+--------------------+--------+\n",
      "|           Publisher|   Score|\n",
      "+--------------------+--------+\n",
      "|             Penguin|376793.0|\n",
      "|  Simon and Schuster|329749.0|\n",
      "|      Harper Collins|237009.0|\n",
      "|        Random House|148080.0|\n",
      "| Courier Corporation|126198.0|\n",
      "|             Vintage|108821.0|\n",
      "|       Mariner Books|105728.0|\n",
      "|          Penguin UK| 87189.0|\n",
      "|Houghton Mifflin ...| 86044.0|\n",
      "|           Macmillan| 81968.0|\n",
      "+--------------------+--------+"
     ]
    }
   ],
   "source": [
    "# 14\n",
    "# Top 10 Publisher with by Score\n",
    "\n",
    "spark.sql(\"\"\"\n",
    "SELECT B.Publisher, SUM(RR.Score) as Score\n",
    "FROM books B\n",
    "JOIN reviews_rating RR ON B.Title = RR.Title\n",
    "GROUP BY B.Publisher\n",
    "ORDER BY Score DESC\n",
    "LIMIT 10\n",
    "\"\"\").show()"
   ]
  },
  {
   "cell_type": "code",
   "execution_count": null,
   "id": "30621d4d",
   "metadata": {},
   "outputs": [],
   "source": []
  },
  {
   "cell_type": "code",
   "execution_count": null,
   "id": "b743ff9f",
   "metadata": {},
   "outputs": [],
   "source": []
  }
 ],
 "metadata": {
  "kernelspec": {
   "display_name": "Python 3 (ipykernel)",
   "language": "python",
   "name": "python3"
  },
  "language_info": {
   "codemirror_mode": {
    "name": "ipython",
    "version": 3
   },
   "file_extension": ".py",
   "mimetype": "text/x-python",
   "name": "python",
   "nbconvert_exporter": "python",
   "pygments_lexer": "ipython3",
   "version": "3.10.13"
  }
 },
 "nbformat": 4,
 "nbformat_minor": 5
}
